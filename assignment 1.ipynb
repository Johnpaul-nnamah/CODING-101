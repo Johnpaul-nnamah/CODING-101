{
  "nbformat": 4,
  "nbformat_minor": 0,
  "metadata": {
    "colab": {
      "provenance": [],
      "authorship_tag": "ABX9TyOOrW2WW1GJMeFxo9fhTtbe",
      "include_colab_link": true
    },
    "kernelspec": {
      "name": "python3",
      "display_name": "Python 3"
    },
    "language_info": {
      "name": "python"
    }
  },
  "cells": [
    {
      "cell_type": "markdown",
      "metadata": {
        "id": "view-in-github",
        "colab_type": "text"
      },
      "source": [
        "<a href=\"https://colab.research.google.com/github/Johnpaul-nnamah/CODING-101/blob/main/assignment%201.ipynb\" target=\"_parent\"><img src=\"https://colab.research.google.com/assets/colab-badge.svg\" alt=\"Open In Colab\"/></a>"
      ]
    },
    {
      "cell_type": "code",
      "source": [
        "# prompt: write a python Program that will suggest ten different password combinations to a user making Use of their username and password\n",
        "\n",
        "import random\n",
        "import string\n",
        "\n",
        "def generate_password_suggestions(username, password):\n",
        "  \"\"\"Generates ten password suggestions based on username and password.\n",
        "\n",
        "  Args:\n",
        "    username: The user's username.\n",
        "    password: The user's current password.\n",
        "\n",
        "  Returns:\n",
        "    A list of ten password suggestions.\n",
        "  \"\"\"\n",
        "\n",
        "  suggestions = []\n",
        "  for i in range(10):\n",
        "    # Combine username, password, and random characters.\n",
        "    new_password = username + password + ''.join(random.choice(string.ascii_letters + string.digits + string.punctuation) for _ in range(8))\n",
        "\n",
        "    # Shuffle the combined string to make it less predictable.\n",
        "    new_password = ''.join(random.sample(new_password, len(new_password)))\n",
        "    suggestions.append(new_password[:20]) #Limit to 20 characters\n",
        "\n",
        "  return suggestions\n",
        "\n",
        "# Example usage\n",
        "username = \"johndoe\"\n",
        "password = \"P@$$wOrd123\"\n",
        "suggestions = generate_password_suggestions(username, password)\n",
        "for i, suggestion in enumerate(suggestions):\n",
        "    print(f\"Suggestion {i+1}: {suggestion}\")\n"
      ],
      "metadata": {
        "colab": {
          "base_uri": "https://localhost:8080/"
        },
        "id": "dRDXOVxtvHwj",
        "outputId": "b6d31e54-c72c-4a94-fa7c-2b9354a4113b"
      },
      "execution_count": 2,
      "outputs": [
        {
          "output_type": "stream",
          "name": "stdout",
          "text": [
            "Suggestion 1: >h$@$w$1Rd%Pd2esodno\n",
            "Suggestion 2: $1w$Or>oHo?h<@e2dRnj\n",
            "Suggestion 3: $oeK@or3dliPd3T1[2Kh\n",
            "Suggestion 4: te'k$j3=xO@,1dnwrd$S\n",
            "Suggestion 5: 1zo*ewhO321dC$ndj~$o\n",
            "Suggestion 6: w1$@heoYoE2OdyPnN$jd\n",
            "Suggestion 7: 2hV$1@PoNPecO3Rld$j'\n",
            "Suggestion 8: n]o$P3e$jdw1O#o21w{i\n",
            "Suggestion 9: Oo3il$]ow2@bd|j;rn$L\n",
            "Suggestion 10: Y(dow@Ir$$,ne21OPodh\n"
          ]
        }
      ]
    },
    {
      "cell_type": "code",
      "source": [
        "# prompt: write code that will accept any given input numbers and print out the second to the last number\n",
        "\n",
        "def print_second_to_last(numbers):\n",
        "  \"\"\"Prints the second to last number in a list of numbers.\n",
        "\n",
        "  Args:\n",
        "    numbers: A list of numbers.\n",
        "  \"\"\"\n",
        "  if len(numbers) < 2:\n",
        "    print(\"Not enough numbers provided.\")\n",
        "  else:\n",
        "    print(numbers[-2])\n",
        "\n",
        "# Get input from the user\n",
        "input_numbers_str = input(\"Enter a sequence of numbers separated by spaces: \")\n",
        "try:\n",
        "  input_numbers = [int(x) for x in input_numbers_str.split()]\n",
        "  print_second_to_last(input_numbers)\n",
        "except ValueError:\n",
        "  print(\"Invalid input. Please enter numbers only, separated by spaces.\")"
      ],
      "metadata": {
        "colab": {
          "base_uri": "https://localhost:8080/"
        },
        "id": "cYrTPhShwix6",
        "outputId": "41f4a695-3eeb-45c5-88aa-f460af9f2ccb"
      },
      "execution_count": 6,
      "outputs": [
        {
          "output_type": "stream",
          "name": "stdout",
          "text": [
            "Enter a sequence of numbers separated by spaces: 2 4 6 8 9\n",
            "8\n"
          ]
        }
      ]
    },
    {
      "cell_type": "code",
      "source": [
        "# prompt: write a python code that will accept username and password and advice the user if their password is not up to ten Characters\n",
        "\n",
        "import random\n",
        "import string\n",
        "\n",
        "\n",
        "def generate_password_suggestions(username, password):\n",
        "  \"\"\"Generates ten password suggestions based on username and password.\"\"\"\n",
        "  # ... (The existing function code remains unchanged)\n",
        "\n",
        "\n",
        "def print_second_to_last(numbers):\n",
        "  \"\"\"Prints the second to last number in a list of numbers.\"\"\"\n",
        "  # ... (The existing function code remains unchanged)\n",
        "\n",
        "\n",
        "def check_password_length(username, password):\n",
        "  \"\"\"Checks if the password is at least 10 characters long.\"\"\"\n",
        "\n",
        "  if len(password) < 10:\n",
        "      print(f\"Warning: Password for user '{username}' is less than 10 characters.  It is recommended to use a longer password.\")\n",
        "  else:\n",
        "      print(f\"Password for user '{username}' meets the minimum length requirement.\")\n",
        "\n",
        "\n",
        "# Get username and password from the user\n",
        "username = input(\"Enter username: \")\n",
        "password = input(\"Enter password: \")\n",
        "\n",
        "# Check password length\n",
        "check_password_length(username, password)\n",
        "\n",
        "# Generate and print password suggestions (optional)\n",
        "# Uncomment the following lines if you want to generate password suggestions\n",
        "#suggestions = generate_password_suggestions(username, password)\n",
        "#for i, suggestion in enumerate(suggestions):\n",
        "#    print(f\"Suggestion {i+1}: {suggestion}\")"
      ],
      "metadata": {
        "colab": {
          "base_uri": "https://localhost:8080/"
        },
        "id": "NqIs1K8Sx9Ag",
        "outputId": "54c1037d-e604-4bf8-9c9b-20ca09d54bc7"
      },
      "execution_count": 11,
      "outputs": [
        {
          "output_type": "stream",
          "name": "stdout",
          "text": [
            "Enter username: johnpaul\n",
            "Enter password: nnamahjoh\n",
            "Warning: Password for user 'johnpaul' is less than 10 characters.  It is recommended to use a longer password.\n"
          ]
        }
      ]
    },
    {
      "cell_type": "code",
      "source": [
        "# prompt: write a python code that accepts file containing usernames and passwords and print the the username with the Strongest password\n",
        "\n",
        "import re\n",
        "\n",
        "def password_strength(password):\n",
        "  \"\"\"Calculates a password strength score based on several criteria.\"\"\"\n",
        "  score = 0\n",
        "\n",
        "  # Length\n",
        "  if len(password) >= 12:\n",
        "    score += 2\n",
        "  elif len(password) >= 8:\n",
        "    score += 1\n",
        "\n",
        "  # Character types\n",
        "  if re.search(r\"[a-z]\", password):\n",
        "    score += 1\n",
        "  if re.search(r\"[A-Z]\", password):\n",
        "    score += 1\n",
        "  if re.search(r\"[0-9]\", password):\n",
        "    score += 1\n",
        "  if re.search(r\"[^a-zA-Z0-9]\", password):  # Special characters\n",
        "    score += 2\n",
        "\n",
        "  # Common patterns (subtracted from score)\n",
        "  if re.search(r\"(.)\\1{2,}\", password): # Repeating characters\n",
        "      score -= 1\n",
        "  if re.search(r\"password\", password, re.IGNORECASE):\n",
        "      score -= 2\n",
        "  if re.search(r\"1234\", password):\n",
        "      score -= 1\n",
        "\n",
        "  return max(0, score)  # Ensure score is not negative\n",
        "\n",
        "\n",
        "def find_strongest_password(filename):\n",
        "  \"\"\"Finds the username with the strongest password in a file.\"\"\"\n",
        "  strongest_password_score = -1\n",
        "  strongest_username = \"\"\n",
        "\n",
        "  try:\n",
        "    with open(filename, 'r') as file:\n",
        "      for line in file:\n",
        "        try:\n",
        "          username, password = line.strip().split(':')\n",
        "          score = password_strength(password)\n",
        "\n",
        "          if score > strongest_password_score:\n",
        "            strongest_password_score = score\n",
        "            strongest_username = username\n",
        "        except ValueError:\n",
        "          print(f\"Skipping invalid line: {line.strip()}\")\n",
        "  except FileNotFoundError:\n",
        "    print(f\"Error: File '{filename}' not found.\")\n",
        "    return None, None\n",
        "\n",
        "  return strongest_username, strongest_password_score\n",
        "\n",
        "\n",
        "# Example usage:  Replace 'user_passwords.txt' with your actual file path.\n",
        "filename = 'user_passwords.txt'\n",
        "username, score = find_strongest_password(filename)\n",
        "\n",
        "if username:\n",
        "    print(f\"The user with the strongest password is: {username} (Strength Score: {score})\")"
      ],
      "metadata": {
        "id": "FRKRYi-24APt"
      },
      "execution_count": null,
      "outputs": []
    }
  ]
}